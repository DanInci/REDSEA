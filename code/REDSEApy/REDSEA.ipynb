{
 "cells": [
  {
   "cell_type": "markdown",
   "metadata": {},
   "source": [
    "## REDSEA python version 0.0.1"
   ]
  },
  {
   "cell_type": "markdown",
   "metadata": {},
   "source": [
    "Translated from Yunhao Bai's MATLAB code by Bokai Zhu.\n",
    "\n",
    "Some minor difference with Yunhao's MATLAB (subject to update in future version):\n",
    "\n",
    "1. Does not filter the positive nuclear identity (cells) (because that part of code is in \"mibisegmentByDeepProbWithPerm3.m\"). But can be easily added by user.\n",
    "\n",
    "2. Does not produce the sanity plot, since it should be outside of the compensation function. OPTIONAL add later\n",
    "\n",
    "3. Does not produce FCS file at the end. Instead produce the 4 fcs file in a matrix style (pandas format), easier for later usage"
   ]
  },
  {
   "cell_type": "code",
   "execution_count": null,
   "metadata": {},
   "outputs": [],
   "source": [
    "import os\n",
    "from REDSEA import run_compensation"
   ]
  },
  {
   "cell_type": "code",
   "execution_count": null,
   "metadata": {},
   "outputs": [],
   "source": [
    "# file locations\n",
    "\n",
    "EXPERIMENT_PATH = '../sampleData_MIBI'\n",
    "channels_path = os.path.join(EXPERIMENT_PATH, 'channels.csv')\n",
    "tiff_path = os.path.join(EXPERIMENT_PATH, 'images/Point1')\n",
    "masks_path = os.path.join(EXPERIMENT_PATH, 'masks/Point1')"
   ]
  },
  {
   "cell_type": "code",
   "execution_count": null,
   "metadata": {},
   "outputs": [],
   "source": [
    "# parameters for compensation\n",
    "\n",
    "boundary_mod = 2 # 2 means boundary \n",
    "REDSEAChecker = 1 # 1 means subtract+ reinforce\n",
    "element_shape = 2 # star, 1 == square size\n",
    "element_size = 2 # star or square extension size"
   ]
  },
  {
   "cell_type": "code",
   "execution_count": null,
   "metadata": {},
   "outputs": [],
   "source": [
    "#  select which channel to normalize\n",
    "\n",
    "norm_channels = ['CD4','CD56','CD21 (CR2)','CD163','CD68','CD3','CD20','CD8a']"
   ]
  },
  {
   "cell_type": "code",
   "execution_count": null,
   "metadata": {},
   "outputs": [],
   "source": [
    "data_full_df, data_scale_size_full_df, data_compensated_full_df, data_compensated_scale_size_full_df = run_compensation(\n",
    "    channels_path, tiff_path, masks_path, norm_channels,\n",
    "    boundary_mod=boundary_mod, REDSEAChecker=REDSEAChecker, element_shape=element_shape, element_size=element_size\n",
    ")"
   ]
  },
  {
   "cell_type": "code",
   "execution_count": null,
   "metadata": {},
   "outputs": [],
   "source": [
    "data_full_df.head() # orignal counts extracted from tiff files"
   ]
  },
  {
   "cell_type": "code",
   "execution_count": null,
   "metadata": {},
   "outputs": [],
   "source": [
    "data_scale_size_full_df.head() # orignal counts extracted from tiff files, but scaled by cell size"
   ]
  },
  {
   "cell_type": "code",
   "execution_count": null,
   "metadata": {},
   "outputs": [],
   "source": [
    "data_compensated_full_df.head() # redsea compensated counts"
   ]
  },
  {
   "cell_type": "code",
   "execution_count": null,
   "metadata": {},
   "outputs": [],
   "source": [
    "data_compensated_scale_size_full_df.head() # redsea compensated counts, but scaled by cell size"
   ]
  }
 ],
 "metadata": {
  "kernelspec": {
   "display_name": "redsea",
   "language": "python",
   "name": "redsea"
  },
  "language_info": {
   "codemirror_mode": {
    "name": "ipython",
    "version": 3
   },
   "file_extension": ".py",
   "mimetype": "text/x-python",
   "name": "python",
   "nbconvert_exporter": "python",
   "pygments_lexer": "ipython3",
   "version": "3.7.16"
  }
 },
 "nbformat": 4,
 "nbformat_minor": 4
}
